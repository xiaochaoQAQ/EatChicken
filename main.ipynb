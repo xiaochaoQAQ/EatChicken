{
 "cells": [
  {
   "metadata": {},
   "cell_type": "markdown",
   "source": [
    "1 赛题介绍\n",
    "《绝地求生》(PUBG) 是一款战术竞技型射击类沙盒游戏。在该游戏中，玩家需要在游戏地图上收集各种资源，并在不断缩小的安全区域内对抗其他玩家，让自己生存到最后。当选手在本局游戏中取得第一名后，会有一段台词出现：“大吉大利，晚上吃鸡!”。\n",
    "\n",
    "在本次赛题中，我们收集了PUBG比赛数据中玩家的行为数据，希望选手能够构建模型对玩家每局最终的排名进行预测。"
   ],
   "id": "87d92e9849c8ca6b"
  },
  {
   "metadata": {},
   "cell_type": "markdown",
   "source": [
    "2 赛事任务\n",
    "构建吃鸡排名预测模型，输入每位玩家的统计信息、队友统计信息、本局其他玩家的统计信息，预测最终的游戏排名。这里的排名是按照队伍排名，若多位玩家在PUBG一局游戏中组队，则最终排名相同。\n",
    "\n",
    "赛题训练集案例如下： 训练集5万局数据，共150w行 测试集共5000局条数据，共50w行\n",
    "\n",
    "赛题数据文件总大小150MB，数据均为csv格式，列使用逗号分割。若使用Pandas读取数据，可参考如下代码："
   ],
   "id": "1d135dac15456975"
  },
  {
   "metadata": {},
   "cell_type": "markdown",
   "source": "",
   "id": "175a069a3ea8a8e6"
  },
  {
   "metadata": {},
   "cell_type": "code",
   "source": [
    "import pandas as pd\n",
    "import numpy as np\n",
    "\n",
    "pubg_train = pd.read_csv('data/pubg_train.csv')\n",
    "# 查找缺失值\n",
    "pubg_train.info()"
   ],
   "id": "99c4d3a53d0ad5c3",
   "execution_count": null,
   "outputs": []
  },
  {
   "metadata": {},
   "cell_type": "markdown",
   "source": [
    "测试集中label字段team_placement为空，需要选手预测。完整的数据字段含义如下：\n",
    "\n",
    "match_id：本局游戏的id\n",
    "team_id：本局游戏中队伍id，表示在每局游戏中队伍信息\n",
    "game_size：本局队伍数量\n",
    "party_size：本局游戏中队伍人数\n",
    "player_assists：玩家助攻数\n",
    "player_dbno：玩家击倒数\n",
    "player_dist_ride：玩家车辆行驶距离\n",
    "player_dist_walk：玩家不幸距离\n",
    "player_dmg：输出伤害值\n",
    "player_kills：玩家击杀数\n",
    "player_name：玩家名称，在训练集和测试集中全局唯一\n",
    "kill_distance_x_min：击杀另一位选手时最小的x坐标间隔\n",
    "kill_distance_x_max：击杀另一位选手时最大的x坐标间隔\n",
    "kill_distance_y_min：击杀另一位选手时最小的y坐标间隔\n",
    "kill_distance_y_max：击杀另一位选手时最大的x坐标间隔\n",
    "team_placement：队伍排名\n",
    "选手需要提交测试集队伍排名预测，具体的提交格式如下：\n",
    "\n",
    "team_placement\n",
    "19\n",
    "19\n",
    "37\n",
    "37\n",
    "49\n",
    "49\n",
    "13\n",
    "13"
   ],
   "id": "161d7e765c5c6b93"
  },
  {
   "metadata": {},
   "cell_type": "markdown",
   "source": [
    "3 评估指标\n",
    "本次竞赛的使用绝对回归误差MAE进行评分，数值越低精度越高，评估代码参考："
   ],
   "id": "cb1ee5358025378d"
  },
  {
   "metadata": {},
   "cell_type": "code",
   "source": [
    "from sklearn.metrics import mean_absolute_error\n",
    "y_pred = [0, 2, 1, 3]\n",
    "y_true = [0, 1, 2, 3]\n",
    "100 - mean_absolute_error(y_true, y_pred)"
   ],
   "id": "1228cee3f57fec79",
   "execution_count": null,
   "outputs": []
  },
  {
   "metadata": {},
   "cell_type": "markdown",
   "source": [
    "4 数据分析\n",
    "结合已有的赛题信息，接下来我们将深入分析数据内部的规律，找出什么类型的队伍会取得更好的排名？\n",
    "\n",
    "赛题字段分析\n",
    "赛题标签分析\n",
    "字段相关性分析"
   ],
   "id": "d5ae9dff4a68b1cd"
  },
  {
   "metadata": {},
   "cell_type": "code",
   "source": [
    "import pandas as pd\n",
    "import paddle\n",
    "\n",
    "%pylab inline\n",
    "import seaborn as sns\n",
    "\n",
    "train_df = pd.read_csv('data/pubg_train.csv')\n",
    "test_df = pd.read_csv('data/pubg_test.csv')"
   ],
   "id": "19ad3150208fa37e",
   "execution_count": null,
   "outputs": []
  },
  {
   "metadata": {},
   "cell_type": "code",
   "source": [
    "\n",
    "# 查看训练集 验证集\n",
    "train_df.shape, test_df.shape"
   ],
   "id": "185b1a0d5dd55b01",
   "execution_count": null,
   "outputs": []
  },
  {
   "metadata": {},
   "cell_type": "code",
   "source": "train_df.head(5)",
   "id": "d2b58ca6ac2e7f49",
   "execution_count": null,
   "outputs": []
  },
  {
   "metadata": {},
   "cell_type": "code",
   "source": [
    "# 热力图查看数据关联性\n",
    "sns.heatmap(train_df.corr())"
   ],
   "id": "31b3ea877299a949",
   "execution_count": null,
   "outputs": []
  },
  {
   "metadata": {},
   "cell_type": "code",
   "source": "train_df.columns",
   "id": "92a03269db3d2fa7",
   "execution_count": null,
   "outputs": []
  },
  {
   "metadata": {},
   "cell_type": "markdown",
   "source": [
    "    5 模型训练与验证\n",
    "数据处理"
   ],
   "id": "4e7abb2068b1e9d4"
  },
  {
   "metadata": {},
   "cell_type": "code",
   "source": [
    "\n",
    "train_df = train_df.drop(['match_id', 'team_id'], axis=1)\n",
    "test_df = test_df.drop(['match_id', 'team_id'], axis=1)\n",
    "# 填充nan值，避免训练出错\n",
    "train_df = train_df.fillna(0)\n",
    "test_df = test_df.fillna(0)"
   ],
   "id": "c7924918e21c1fb",
   "execution_count": null,
   "outputs": []
  },
  {
   "metadata": {},
   "cell_type": "code",
   "source": [
    "# 标签归一化，按照本场比赛的队伍数量进行处理\n",
    "# train_df['team_placement'] /= train_df['game_size'] \n",
    "\n",
    "# 数值归一化 将每一列数据除以最大值\n",
    "for col in train_df.columns[:-1]:\n",
    "    train_df[col] /= train_df[col].max()\n",
    "    test_df[col] /= test_df[col].max()"
   ],
   "id": "16d5e76da7daa9b4",
   "execution_count": null,
   "outputs": []
  },
  {
   "metadata": {},
   "cell_type": "markdown",
   "source": "模型搭建",
   "id": "8eb4532307accb28"
  },
  {
   "metadata": {},
   "cell_type": "code",
   "source": [
    "class Regressor(paddle.nn.Layer):\n",
    "    # self代表类的实例自身\n",
    "    def __init__(self):\n",
    "        # 初始化父类中的一些参数\n",
    "        super(Regressor, self).__init__()\n",
    "        \n",
    "        # 网络参数（调整此处获得不同模型）\n",
    "        self.fc1 = paddle.nn.Linear(in_features=13, out_features=32)\n",
    "        self.fc2 = paddle.nn.Linear(in_features=32, out_features=128)\n",
    "        self.fc3 = paddle.nn.Linear(in_features=128, out_features=1)\n",
    "        \n",
    "        # 在(o,res)之间取最大值作为结果\n",
    "        self.relu = paddle.nn.ReLU()\n",
    "    \n",
    "    # 网络的前向计算\n",
    "    def forward(self, inputs):\n",
    "        x = self.fc1(inputs)\n",
    "        x = self.relu(x)\n",
    "        x = self.fc2(x)\n",
    "        x = self.relu(x)\n",
    "        x = self.fc3(x)\n",
    "        x = self.relu(x)\n",
    "        return x"
   ],
   "id": "5bade1580451d5a8",
   "execution_count": null,
   "outputs": []
  },
  {
   "metadata": {},
   "cell_type": "code",
   "source": [
    "# 声明定义好的线性回归模型 实例化\n",
    "model = Regressor()\n",
    "\n",
    "# 开启模型训练模式\n",
    "model.train()\n",
    "\n",
    "# 定义优化算法，使用随机梯度下降SGD\n",
    "opt = paddle.optimizer.SGD(learning_rate=0.01, parameters=model.parameters())"
   ],
   "id": "1c7ea5da7ab06906",
   "execution_count": null,
   "outputs": []
  },
  {
   "metadata": {},
   "cell_type": "markdown",
   "source": "模型训练",
   "id": "2d05588cec56b5e3"
  },
  {
   "metadata": {
    "jupyter": {
     "is_executing": true
    }
   },
   "cell_type": "code",
   "source": [
    "EPOCH_NUM = 1500   # 设置外层循环次数 尽量大\n",
    "BATCH_SIZE = 1500  # 设置batch大小  根据硬件调整\n",
    "# 优化算法\n",
    "training_data = train_df.iloc[:-10000].values.astype(np.float32)\n",
    "val_data = train_df.iloc[-10000:].values.astype(np.float32)\n",
    "\n",
    "# 定义外层循环\n",
    "for epoch_id in range(EPOCH_NUM):\n",
    "    # 在每轮迭代开始之前，将训练数据的顺序随机的打乱\n",
    "    np.random.shuffle(training_data)\n",
    "    \n",
    "    # 将训练数据进行拆分，每个batch包含10条数据\n",
    "    mini_batches = [training_data[k:k+BATCH_SIZE] for k in range(0, len(training_data), BATCH_SIZE)]\n",
    "    \n",
    "    train_loss = []\n",
    "    for iter_id, mini_batch in enumerate(mini_batches):\n",
    "        # 清空梯度变量，以备下一轮计算\n",
    "        opt.clear_grad()\n",
    "\n",
    "        x = np.array(mini_batch[:, :-1])\n",
    "        y = np.array(mini_batch[:, -1:])\n",
    "        \n",
    "        # 将numpy数据转为飞桨动态图tensor的格式\n",
    "        features = paddle.to_tensor(x)\n",
    "        y = paddle.to_tensor(y)\n",
    "        \n",
    "        # 前向计算\n",
    "        predicts = model(features)\n",
    "        \n",
    "        # 计算损失\n",
    "        loss = paddle.nn.functional.l1_loss(predicts, label=y)\n",
    "        avg_loss = paddle.mean(loss)\n",
    "        train_loss.append(avg_loss.numpy())\n",
    "        \n",
    "        # 反向传播，计算每层参数的梯度值\n",
    "        avg_loss.backward()\n",
    "\n",
    "        # 更新参数，根据设置好的学习率迭代一步\n",
    "        opt.step()\n",
    "    \n",
    "    mini_batches = [val_data[k:k+BATCH_SIZE] for k in range(0, len(val_data), BATCH_SIZE)]\n",
    "    val_loss = []\n",
    "    for iter_id, mini_batch in enumerate(mini_batches):\n",
    "        x = np.array(mini_batch[:, :-1])\n",
    "        y = np.array(mini_batch[:, -1:])\n",
    "        \n",
    "        features = paddle.to_tensor(x)\n",
    "        y = paddle.to_tensor(y)\n",
    "        \n",
    "        predicts = model(features)\n",
    "        loss = paddle.nn.functional.l1_loss(predicts, label=y)\n",
    "        avg_loss = paddle.mean(loss)\n",
    "        val_loss.append(avg_loss.numpy())\n",
    "\n",
    "    print(f'Epoch {epoch_id}, train MAE {np.mean(train_loss)}, val MAE {np.mean(val_loss)}')"
   ],
   "id": "2b3d24167bc8b7b1",
   "execution_count": null,
   "outputs": []
  },
  {
   "metadata": {},
   "cell_type": "markdown",
   "source": "模型预测",
   "id": "5eb566c1ab55d4a7"
  },
  {
   "metadata": {},
   "cell_type": "code",
   "source": [
    "model.eval()\n",
    "test_data = paddle.to_tensor(test_df.values.astype(np.float32))\n",
    "test_predict = model(test_data)\n",
    "test_predict = test_predict.numpy().flatten()\n",
    "test_predict = test_predict.round().astype(int)"
   ],
   "id": "2244ed8635bc0e0b",
   "execution_count": null,
   "outputs": []
  },
  {
   "metadata": {},
   "cell_type": "code",
   "source": [
    "pd.DataFrame({'team_placement': test_predict}).to_csv('data/submission.csv', index=None)\n",
    "\n",
    "# 在左侧刷新下载到桌面后提交进行评测即可"
   ],
   "id": "87887f36debc7552",
   "execution_count": null,
   "outputs": []
  },
  {
   "metadata": {},
   "cell_type": "markdown",
   "source": [
    "6 总结与展望\n",
    "项目使用全连接网络进行训练和预测。\n",
    "\n",
    "后续改进方法有：\n",
    "\n",
    "按照队伍进行聚合统计数据，构造新特征。\n",
    "将标签归一化到0-1之间，进行训练。"
   ],
   "id": "4e977854426768c2"
  }
 ],
 "metadata": {
  "kernelspec": {
   "display_name": "Python 3",
   "language": "python",
   "name": "python3"
  },
  "language_info": {
   "codemirror_mode": {
    "name": "ipython",
    "version": 2
   },
   "file_extension": ".py",
   "mimetype": "text/x-python",
   "name": "python",
   "nbconvert_exporter": "python",
   "pygments_lexer": "ipython2",
   "version": "2.7.6"
  }
 },
 "nbformat": 4,
 "nbformat_minor": 5
}
