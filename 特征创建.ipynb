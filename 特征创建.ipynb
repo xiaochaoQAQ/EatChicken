{
 "cells": [
  {
   "cell_type": "code",
   "id": "initial_id",
   "metadata": {
    "collapsed": true
   },
   "source": [
    "import pandas as pd\n",
    "import numpy as np\n",
    "import matplotlib.pyplot as plt\n",
    "import seaborn as sns\n",
    "import matplotlib.dates as mdates\n",
    "from sklearn.ensemble import RandomForestRegressor\n",
    "from sklearn.preprocessing import PolynomialFeatures\n",
    "from sklearn.preprocessing import LabelEncoder\n",
    "# 设置支持中文的字体\n",
    "plt.rcParams['font.sans-serif'] = ['SimHei']\n",
    "# 设置负号'-'的显示，避免保存图像时显示为方块\n",
    "plt.rcParams['axes.unicode_minus'] = False"
   ],
   "outputs": [],
   "execution_count": null
  },
  {
   "metadata": {},
   "cell_type": "code",
   "source": [
    "df = pd.read_csv('data/pubg_train.csv')\n",
    "df.head(5)"
   ],
   "id": "defc822e3a0c603",
   "outputs": [],
   "execution_count": null
  },
  {
   "metadata": {},
   "cell_type": "code",
   "source": [
    "# 查看每列的缺失值数量\n",
    "missing_values = df.isnull().sum()\n",
    "# 显示缺失值信息\n",
    "print(missing_values)"
   ],
   "id": "d8cf974bd1faec4a",
   "outputs": [],
   "execution_count": null
  },
  {
   "metadata": {},
   "cell_type": "markdown",
   "source": [
    "match_id: 比赛的唯一标识符。  \n",
    "team_id: 队伍的唯一标识符。  \n",
    "game_size: 游戏的规模或地图大小。  \n",
    "party_size: 队伍中的成员数量。   \n",
    "player_assists: 玩家在比赛中的助攻数。 \n",
    "player_dbno: 玩家在比赛中被击倒的次数。  \n",
    "player_dist_ride: 玩家在游戏中骑行的距离。  \n",
    "player_dist_walk: 玩家在游戏中步行的距离。  \n",
    "player_dmg: 玩家对敌人造成的伤害总量。   \n",
    "player_kills: 玩家的击杀数。   \n",
    "player_name: 玩家的名字。     \n",
    "kill_distance_x_min: 玩家击杀敌人时的最小X轴距离。    \n",
    "kill_distance_x_max: 玩家击杀敌人时的最大X轴距离。    \n",
    "kill_distance_y_min: 玩家击杀敌人时的最小Y轴距离。    \n",
    "kill_distance_y_max: 玩家击杀敌人时的最大Y轴距离。    \n",
    "team_placement: 队伍在比赛结束时的排名。"
   ],
   "id": "249f9f7c9b7734a9"
  },
  {
   "metadata": {},
   "cell_type": "code",
   "source": [
    "# 创建特征 击杀最小距离和最大距离\n",
    "try:\n",
    "    df['kill_distance_z_min'] = np.sqrt(df['kill_distance_x_min'] ** 2 + df['kill_distance_y_min'] ** 2)\n",
    "    df['kill_distance_z_max'] = np.sqrt(df['kill_distance_x_max'] ** 2 + df['kill_distance_y_max'] ** 2)\n",
    "    df['kill_means_dmg'] = np.where(df['player_kills'] == 0, 0, df['player_dmg'] / df['player_kills'])\n",
    "    df['player_dist_sum'] = df['player_dist_ride'] + df['player_dist_walk']\n",
    "    df['player_count'] = df['game_size'] * df['party_size']\n",
    "except Exception as e:\n",
    "    print(f\"An error occurred: {e}\")\n",
    "\n",
    "df.head(5)"
   ],
   "id": "c4dac558ef3b792a",
   "outputs": [],
   "execution_count": null
  },
  {
   "metadata": {},
   "cell_type": "markdown",
   "source": [
    "kill_distance_z_min:最小击杀直线距离    \n",
    "kill_distance_z_max:最大击杀直线距离    \n",
    "kill_means_dmg:杀死一个人平均伤害    \n",
    "player_dist_sum:行动总距离   \n",
    "player_count:该局游戏总玩家人数"
   ],
   "id": "fa079821e79fb766"
  },
  {
   "metadata": {},
   "cell_type": "code",
   "source": [
    "df.fillna(0, inplace=True)\n",
    "df"
   ],
   "id": "ee73ba6910a80d10",
   "outputs": [],
   "execution_count": null
  }
 ],
 "metadata": {
  "kernelspec": {
   "display_name": "Python 3",
   "language": "python",
   "name": "python3"
  },
  "language_info": {
   "codemirror_mode": {
    "name": "ipython",
    "version": 2
   },
   "file_extension": ".py",
   "mimetype": "text/x-python",
   "name": "python",
   "nbconvert_exporter": "python",
   "pygments_lexer": "ipython2",
   "version": "2.7.6"
  }
 },
 "nbformat": 4,
 "nbformat_minor": 5
}
