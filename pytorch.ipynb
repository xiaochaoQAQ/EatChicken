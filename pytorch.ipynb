{
 "cells": [
  {
   "metadata": {},
   "cell_type": "markdown",
   "source": [
    "1 赛题介绍\n",
    "《绝地求生》(PUBG) 是一款战术竞技型射击类沙盒游戏。在该游戏中，玩家需要在游戏地图上收集各种资源，并在不断缩小的安全区域内对抗其他玩家，让自己生存到最后。当选手在本局游戏中取得第一名后，会有一段台词出现：“大吉大利，晚上吃鸡!”。\n",
    "\n",
    "在本次赛题中，我们收集了PUBG比赛数据中玩家的行为数据，希望选手能够构建模型对玩家每局最终的排名进行预测。"
   ],
   "id": "87d92e9849c8ca6b"
  },
  {
   "metadata": {},
   "cell_type": "markdown",
   "source": [
    "2 赛事任务\n",
    "构建吃鸡排名预测模型，输入每位玩家的统计信息、队友统计信息、本局其他玩家的统计信息，预测最终的游戏排名。这里的排名是按照队伍排名，若多位玩家在PUBG一局游戏中组队，则最终排名相同。\n",
    "\n",
    "赛题训练集案例如下： 训练集5万局数据，共150w行 测试集共5000局条数据，共50w行\n",
    "\n",
    "赛题数据文件总大小150MB，数据均为csv格式，列使用逗号分割。若使用Pandas读取数据，可参考如下代码："
   ],
   "id": "1d135dac15456975"
  },
  {
   "metadata": {},
   "cell_type": "markdown",
   "source": "",
   "id": "175a069a3ea8a8e6"
  },
  {
   "metadata": {
    "ExecuteTime": {
     "end_time": "2024-10-27T12:04:23.950300Z",
     "start_time": "2024-10-27T12:04:23.945021Z"
    }
   },
   "cell_type": "code",
   "source": [
    "import pandas as pd\n",
    "import numpy as np\n",
    "import torch\n",
    "from torch import nn\n",
    "import matplotlib.pyplot as plt\n",
    "\n",
    "# 设置支持中文的字体\n",
    "plt.rcParams['font.sans-serif'] = ['SimHei']\n",
    "# 设置负号'-'的显示，避免保存图像时显示为方块\n",
    "plt.rcParams['axes.unicode_minus'] = False"
   ],
   "id": "99c4d3a53d0ad5c3",
   "outputs": [],
   "execution_count": 218
  },
  {
   "metadata": {},
   "cell_type": "markdown",
   "source": [
    "测试集中label字段team_placement为空，需要选手预测。完整的数据字段含义如下：\n",
    "\n",
    "match_id：本局游戏的id\n",
    "team_id：本局游戏中队伍id，表示在每局游戏中队伍信息\n",
    "game_size：本局队伍数量\n",
    "party_size：本局游戏中队伍人数\n",
    "player_assists：玩家助攻数\n",
    "player_dbno：玩家击倒数\n",
    "player_dist_ride：玩家车辆行驶距离\n",
    "player_dist_walk：玩家不幸距离\n",
    "player_dmg：输出伤害值\n",
    "player_kills：玩家击杀数\n",
    "player_name：玩家名称，在训练集和测试集中全局唯一\n",
    "kill_distance_x_min：击杀另一位选手时最小的x坐标间隔\n",
    "kill_distance_x_max：击杀另一位选手时最大的x坐标间隔\n",
    "kill_distance_y_min：击杀另一位选手时最小的y坐标间隔\n",
    "kill_distance_y_max：击杀另一位选手时最大的x坐标间隔\n",
    "team_placement：队伍排名\n",
    "选手需要提交测试集队伍排名预测，具体的提交格式如下：\n",
    "\n",
    "team_placement\n",
    "19\n",
    "19\n",
    "37\n",
    "37\n",
    "49\n",
    "49\n",
    "13\n",
    "13"
   ],
   "id": "161d7e765c5c6b93"
  },
  {
   "metadata": {},
   "cell_type": "markdown",
   "source": [
    "3 评估指标\n",
    "本次竞赛的使用绝对回归误差MAE进行评分，数值越低精度越高，评估代码参考："
   ],
   "id": "cb1ee5358025378d"
  },
  {
   "metadata": {},
   "cell_type": "markdown",
   "source": [
    "4 数据分析\n",
    "结合已有的赛题信息，接下来我们将深入分析数据内部的规律，找出什么类型的队伍会取得更好的排名？\n",
    "\n",
    "赛题字段分析\n",
    "赛题标签分析\n",
    "字段相关性分析"
   ],
   "id": "d5ae9dff4a68b1cd"
  },
  {
   "metadata": {
    "ExecuteTime": {
     "end_time": "2024-10-27T12:04:26.045262Z",
     "start_time": "2024-10-27T12:04:23.973272Z"
    }
   },
   "cell_type": "code",
   "source": [
    "import pandas as pd\n",
    "\n",
    "%pylab inline\n",
    "import seaborn as sns\n",
    "\n",
    "train_df = pd.read_csv('data/pubg_train.csv')\n",
    "test_df = pd.read_csv('data/pubg_test.csv')\n",
    "train_df.info()"
   ],
   "id": "19ad3150208fa37e",
   "outputs": [
    {
     "name": "stdout",
     "output_type": "stream",
     "text": [
      "%pylab is deprecated, use %matplotlib inline and import the required libraries.\n",
      "Populating the interactive namespace from numpy and matplotlib\n",
      "<class 'pandas.core.frame.DataFrame'>\n",
      "RangeIndex: 1500000 entries, 0 to 1499999\n",
      "Data columns (total 16 columns):\n",
      " #   Column               Non-Null Count    Dtype  \n",
      "---  ------               --------------    -----  \n",
      " 0   match_id             1500000 non-null  int64  \n",
      " 1   team_id              1500000 non-null  int64  \n",
      " 2   game_size            1500000 non-null  int64  \n",
      " 3   party_size           1500000 non-null  int64  \n",
      " 4   player_assists       1500000 non-null  int64  \n",
      " 5   player_dbno          1500000 non-null  int64  \n",
      " 6   player_dist_ride     1500000 non-null  float64\n",
      " 7   player_dist_walk     1500000 non-null  float64\n",
      " 8   player_dmg           1500000 non-null  int64  \n",
      " 9   player_kills         1500000 non-null  int64  \n",
      " 10  player_name          1500000 non-null  int64  \n",
      " 11  kill_distance_x_min  635716 non-null   float64\n",
      " 12  kill_distance_x_max  635716 non-null   float64\n",
      " 13  kill_distance_y_min  635716 non-null   float64\n",
      " 14  kill_distance_y_max  635716 non-null   float64\n",
      " 15  team_placement       1500000 non-null  int64  \n",
      "dtypes: float64(6), int64(10)\n",
      "memory usage: 183.1 MB\n"
     ]
    }
   ],
   "execution_count": 219
  },
  {
   "metadata": {
    "ExecuteTime": {
     "end_time": "2024-10-27T12:04:26.084613Z",
     "start_time": "2024-10-27T12:04:26.079149Z"
    }
   },
   "cell_type": "code",
   "source": [
    "# 查看训练集 验证集\n",
    "train_df.shape, test_df.shape"
   ],
   "id": "185b1a0d5dd55b01",
   "outputs": [
    {
     "data": {
      "text/plain": [
       "((1500000, 16), (500000, 15))"
      ]
     },
     "execution_count": 220,
     "metadata": {},
     "output_type": "execute_result"
    }
   ],
   "execution_count": 220
  },
  {
   "metadata": {
    "ExecuteTime": {
     "end_time": "2024-10-27T12:04:26.186639Z",
     "start_time": "2024-10-27T12:04:26.110648Z"
    }
   },
   "cell_type": "code",
   "source": [
    "# 创建特征 击杀最小距离和最大距离\n",
    "try:\n",
    "    train_df['kill_distance_z_min'] = np.sqrt(\n",
    "        train_df['kill_distance_x_min'] ** 2 + train_df['kill_distance_y_min'] ** 2)\n",
    "    train_df['kill_distance_z_max'] = np.sqrt(\n",
    "        train_df['kill_distance_x_max'] ** 2 + train_df['kill_distance_y_max'] ** 2)\n",
    "    train_df['kill_means_dmg'] = np.where(train_df['player_kills'] == 0, 0,\n",
    "                                          train_df['player_dmg'] / train_df['player_kills'])\n",
    "    train_df['player_dist_sum'] = train_df['player_dist_ride'] + train_df['player_dist_walk']\n",
    "    train_df['player_count'] = train_df['game_size'] * train_df['party_size']\n",
    "except Exception as e:\n",
    "    print(f\"An error occurred: {e}\")\n"
   ],
   "id": "577a89f6f146f81f",
   "outputs": [],
   "execution_count": 221
  },
  {
   "metadata": {
    "ExecuteTime": {
     "end_time": "2024-10-27T12:04:26.231368Z",
     "start_time": "2024-10-27T12:04:26.213680Z"
    }
   },
   "cell_type": "code",
   "source": "train_df.head(5)",
   "id": "d2b58ca6ac2e7f49",
   "outputs": [
    {
     "data": {
      "text/plain": [
       "   match_id  team_id  game_size  party_size  player_assists  player_dbno  \\\n",
       "0         0        1         50           2               0            1   \n",
       "1         0        1         50           2               1            0   \n",
       "2         0        2         50           2               0            0   \n",
       "3         0        2         50           2               0            0   \n",
       "4         0        3         50           2               0            0   \n",
       "\n",
       "   player_dist_ride  player_dist_walk  player_dmg  player_kills  ...  \\\n",
       "0        4984.54900       2054.031490         218             2  ...   \n",
       "1        5960.46436       2268.221000         125             0  ...   \n",
       "2           0.00000          0.000000           0             0  ...   \n",
       "3           0.00000          5.211829          41             0  ...   \n",
       "4           0.00000        341.730927          69             0  ...   \n",
       "\n",
       "   kill_distance_x_min  kill_distance_x_max  kill_distance_y_min  \\\n",
       "0               1689.9               3992.9                137.0   \n",
       "1                  NaN                  NaN                  NaN   \n",
       "2                  NaN                  NaN                  NaN   \n",
       "3                  NaN                  NaN                  NaN   \n",
       "4                  NaN                  NaN                  NaN   \n",
       "\n",
       "   kill_distance_y_max  team_placement  kill_distance_z_min  \\\n",
       "0                819.8               5          1695.444193   \n",
       "1                  NaN               5                  NaN   \n",
       "2                  NaN              49                  NaN   \n",
       "3                  NaN              49                  NaN   \n",
       "4                  NaN              34                  NaN   \n",
       "\n",
       "   kill_distance_z_max  kill_means_dmg  player_dist_sum  player_count  \n",
       "0          4076.189697           109.0      7038.580490           100  \n",
       "1                  NaN             0.0      8228.685360           100  \n",
       "2                  NaN             0.0         0.000000           100  \n",
       "3                  NaN             0.0         5.211829           100  \n",
       "4                  NaN             0.0       341.730927           100  \n",
       "\n",
       "[5 rows x 21 columns]"
      ],
      "text/html": [
       "<div>\n",
       "<style scoped>\n",
       "    .dataframe tbody tr th:only-of-type {\n",
       "        vertical-align: middle;\n",
       "    }\n",
       "\n",
       "    .dataframe tbody tr th {\n",
       "        vertical-align: top;\n",
       "    }\n",
       "\n",
       "    .dataframe thead th {\n",
       "        text-align: right;\n",
       "    }\n",
       "</style>\n",
       "<table border=\"1\" class=\"dataframe\">\n",
       "  <thead>\n",
       "    <tr style=\"text-align: right;\">\n",
       "      <th></th>\n",
       "      <th>match_id</th>\n",
       "      <th>team_id</th>\n",
       "      <th>game_size</th>\n",
       "      <th>party_size</th>\n",
       "      <th>player_assists</th>\n",
       "      <th>player_dbno</th>\n",
       "      <th>player_dist_ride</th>\n",
       "      <th>player_dist_walk</th>\n",
       "      <th>player_dmg</th>\n",
       "      <th>player_kills</th>\n",
       "      <th>...</th>\n",
       "      <th>kill_distance_x_min</th>\n",
       "      <th>kill_distance_x_max</th>\n",
       "      <th>kill_distance_y_min</th>\n",
       "      <th>kill_distance_y_max</th>\n",
       "      <th>team_placement</th>\n",
       "      <th>kill_distance_z_min</th>\n",
       "      <th>kill_distance_z_max</th>\n",
       "      <th>kill_means_dmg</th>\n",
       "      <th>player_dist_sum</th>\n",
       "      <th>player_count</th>\n",
       "    </tr>\n",
       "  </thead>\n",
       "  <tbody>\n",
       "    <tr>\n",
       "      <th>0</th>\n",
       "      <td>0</td>\n",
       "      <td>1</td>\n",
       "      <td>50</td>\n",
       "      <td>2</td>\n",
       "      <td>0</td>\n",
       "      <td>1</td>\n",
       "      <td>4984.54900</td>\n",
       "      <td>2054.031490</td>\n",
       "      <td>218</td>\n",
       "      <td>2</td>\n",
       "      <td>...</td>\n",
       "      <td>1689.9</td>\n",
       "      <td>3992.9</td>\n",
       "      <td>137.0</td>\n",
       "      <td>819.8</td>\n",
       "      <td>5</td>\n",
       "      <td>1695.444193</td>\n",
       "      <td>4076.189697</td>\n",
       "      <td>109.0</td>\n",
       "      <td>7038.580490</td>\n",
       "      <td>100</td>\n",
       "    </tr>\n",
       "    <tr>\n",
       "      <th>1</th>\n",
       "      <td>0</td>\n",
       "      <td>1</td>\n",
       "      <td>50</td>\n",
       "      <td>2</td>\n",
       "      <td>1</td>\n",
       "      <td>0</td>\n",
       "      <td>5960.46436</td>\n",
       "      <td>2268.221000</td>\n",
       "      <td>125</td>\n",
       "      <td>0</td>\n",
       "      <td>...</td>\n",
       "      <td>NaN</td>\n",
       "      <td>NaN</td>\n",
       "      <td>NaN</td>\n",
       "      <td>NaN</td>\n",
       "      <td>5</td>\n",
       "      <td>NaN</td>\n",
       "      <td>NaN</td>\n",
       "      <td>0.0</td>\n",
       "      <td>8228.685360</td>\n",
       "      <td>100</td>\n",
       "    </tr>\n",
       "    <tr>\n",
       "      <th>2</th>\n",
       "      <td>0</td>\n",
       "      <td>2</td>\n",
       "      <td>50</td>\n",
       "      <td>2</td>\n",
       "      <td>0</td>\n",
       "      <td>0</td>\n",
       "      <td>0.00000</td>\n",
       "      <td>0.000000</td>\n",
       "      <td>0</td>\n",
       "      <td>0</td>\n",
       "      <td>...</td>\n",
       "      <td>NaN</td>\n",
       "      <td>NaN</td>\n",
       "      <td>NaN</td>\n",
       "      <td>NaN</td>\n",
       "      <td>49</td>\n",
       "      <td>NaN</td>\n",
       "      <td>NaN</td>\n",
       "      <td>0.0</td>\n",
       "      <td>0.000000</td>\n",
       "      <td>100</td>\n",
       "    </tr>\n",
       "    <tr>\n",
       "      <th>3</th>\n",
       "      <td>0</td>\n",
       "      <td>2</td>\n",
       "      <td>50</td>\n",
       "      <td>2</td>\n",
       "      <td>0</td>\n",
       "      <td>0</td>\n",
       "      <td>0.00000</td>\n",
       "      <td>5.211829</td>\n",
       "      <td>41</td>\n",
       "      <td>0</td>\n",
       "      <td>...</td>\n",
       "      <td>NaN</td>\n",
       "      <td>NaN</td>\n",
       "      <td>NaN</td>\n",
       "      <td>NaN</td>\n",
       "      <td>49</td>\n",
       "      <td>NaN</td>\n",
       "      <td>NaN</td>\n",
       "      <td>0.0</td>\n",
       "      <td>5.211829</td>\n",
       "      <td>100</td>\n",
       "    </tr>\n",
       "    <tr>\n",
       "      <th>4</th>\n",
       "      <td>0</td>\n",
       "      <td>3</td>\n",
       "      <td>50</td>\n",
       "      <td>2</td>\n",
       "      <td>0</td>\n",
       "      <td>0</td>\n",
       "      <td>0.00000</td>\n",
       "      <td>341.730927</td>\n",
       "      <td>69</td>\n",
       "      <td>0</td>\n",
       "      <td>...</td>\n",
       "      <td>NaN</td>\n",
       "      <td>NaN</td>\n",
       "      <td>NaN</td>\n",
       "      <td>NaN</td>\n",
       "      <td>34</td>\n",
       "      <td>NaN</td>\n",
       "      <td>NaN</td>\n",
       "      <td>0.0</td>\n",
       "      <td>341.730927</td>\n",
       "      <td>100</td>\n",
       "    </tr>\n",
       "  </tbody>\n",
       "</table>\n",
       "<p>5 rows × 21 columns</p>\n",
       "</div>"
      ]
     },
     "execution_count": 222,
     "metadata": {},
     "output_type": "execute_result"
    }
   ],
   "execution_count": 222
  },
  {
   "metadata": {
    "ExecuteTime": {
     "end_time": "2024-10-27T12:04:28.971242Z",
     "start_time": "2024-10-27T12:04:26.297191Z"
    }
   },
   "cell_type": "code",
   "source": [
    "# 热力图查看数据关联性\n",
    "sns.heatmap(train_df.corr())"
   ],
   "id": "31b3ea877299a949",
   "outputs": [
    {
     "data": {
      "text/plain": [
       "<Axes: >"
      ]
     },
     "execution_count": 223,
     "metadata": {},
     "output_type": "execute_result"
    },
    {
     "data": {
      "text/plain": [
       "<Figure size 640x480 with 2 Axes>"
      ],
      "image/png": "[encoded data removed]"
     },
     "metadata": {},
     "output_type": "display_data"
    }
   ],
   "execution_count": 223
  },
  {
   "metadata": {
    "ExecuteTime": {
     "end_time": "2024-10-27T12:04:29.033798Z",
     "start_time": "2024-10-27T12:04:29.025341Z"
    }
   },
   "cell_type": "code",
   "source": "train_df.columns",
   "id": "92a03269db3d2fa7",
   "outputs": [
    {
     "data": {
      "text/plain": [
       "Index(['match_id', 'team_id', 'game_size', 'party_size', 'player_assists',\n",
       "       'player_dbno', 'player_dist_ride', 'player_dist_walk', 'player_dmg',\n",
       "       'player_kills', 'player_name', 'kill_distance_x_min',\n",
       "       'kill_distance_x_max', 'kill_distance_y_min', 'kill_distance_y_max',\n",
       "       'team_placement', 'kill_distance_z_min', 'kill_distance_z_max',\n",
       "       'kill_means_dmg', 'player_dist_sum', 'player_count'],\n",
       "      dtype='object')"
      ]
     },
     "execution_count": 224,
     "metadata": {},
     "output_type": "execute_result"
    }
   ],
   "execution_count": 224
  },
  {
   "metadata": {},
   "cell_type": "markdown",
   "source": [
    "    5 模型训练与验证\n",
    "数据处理"
   ],
   "id": "4e7abb2068b1e9d4"
  },
  {
   "metadata": {
    "ExecuteTime": {
     "end_time": "2024-10-27T12:04:29.290811Z",
     "start_time": "2024-10-27T12:04:29.080783Z"
    }
   },
   "cell_type": "code",
   "source": [
    "\n",
    "train_df = train_df.drop(['match_id', 'team_id'], axis=1)\n",
    "test_df = test_df.drop(['match_id', 'team_id'], axis=1)\n",
    "# 填充nan值，避免训练出错\n",
    "train_df = train_df.fillna(0)\n",
    "test_df = test_df.fillna(0)\n",
    "train_df.columns"
   ],
   "id": "c7924918e21c1fb",
   "outputs": [
    {
     "data": {
      "text/plain": [
       "Index(['game_size', 'party_size', 'player_assists', 'player_dbno',\n",
       "       'player_dist_ride', 'player_dist_walk', 'player_dmg', 'player_kills',\n",
       "       'player_name', 'kill_distance_x_min', 'kill_distance_x_max',\n",
       "       'kill_distance_y_min', 'kill_distance_y_max', 'team_placement',\n",
       "       'kill_distance_z_min', 'kill_distance_z_max', 'kill_means_dmg',\n",
       "       'player_dist_sum', 'player_count'],\n",
       "      dtype='object')"
      ]
     },
     "execution_count": 225,
     "metadata": {},
     "output_type": "execute_result"
    }
   ],
   "execution_count": 225
  },
  {
   "metadata": {
    "ExecuteTime": {
     "end_time": "2024-10-27T12:04:29.645103Z",
     "start_time": "2024-10-27T12:04:29.346161Z"
    }
   },
   "cell_type": "code",
   "source": [
    "# 标签归一化，按照本场比赛的队伍数量进行处理\n",
    "# train_df['team_placement'] /= train_df['game_size'] \n",
    "column = ['game_size', 'party_size', 'player_assists', 'player_dbno',\n",
    " 'player_dist_ride', 'player_dist_walk', 'player_dmg', 'player_kills',\n",
    " 'player_name', 'kill_distance_x_min', 'kill_distance_x_max',\n",
    " 'kill_distance_y_min', 'kill_distance_y_max',\n",
    " 'kill_distance_z_min', 'kill_distance_z_max', 'kill_means_dmg',\n",
    " 'player_dist_sum', 'player_count', 'team_placement']\n",
    "train_df = train_df[column]\n",
    "# 数值归一化 将每一列数据除以最大值\n",
    "for col in train_df.columns[:-1]:\n",
    "    print(col)\n",
    "    train_df[col] /= train_df[col].max()\n",
    "    # test_df[col] /= test_df[col].max()"
   ],
   "id": "16d5e76da7daa9b4",
   "outputs": [
    {
     "name": "stdout",
     "output_type": "stream",
     "text": [
      "game_size\n",
      "party_size\n",
      "player_assists\n",
      "player_dbno\n",
      "player_dist_ride\n",
      "player_dist_walk\n",
      "player_dmg\n",
      "player_kills\n",
      "player_name\n",
      "kill_distance_x_min\n",
      "kill_distance_x_max\n",
      "kill_distance_y_min\n",
      "kill_distance_y_max\n",
      "kill_distance_z_min\n",
      "kill_distance_z_max\n",
      "kill_means_dmg\n",
      "player_dist_sum\n",
      "player_count\n"
     ]
    }
   ],
   "execution_count": 226
  },
  {
   "metadata": {},
   "cell_type": "markdown",
   "source": "模型搭建",
   "id": "8eb4532307accb28"
  },
  {
   "metadata": {
    "ExecuteTime": {
     "end_time": "2024-10-27T12:04:29.656356Z",
     "start_time": "2024-10-27T12:04:29.651090Z"
    }
   },
   "cell_type": "code",
   "source": [
    "class Regressor(torch.nn.Module):\n",
    "    # self代表类的实例自身\n",
    "    def __init__(self):\n",
    "        super(Regressor, self).__init__()\n",
    "\n",
    "        # 网络参数（调整此处获得不同模型）\n",
    "        self.fc1 = torch.nn.Linear(18, 128)\n",
    "        self.relu = torch.nn.ReLU()  # 使用 ReLU 激活函数\n",
    "        self.fc2 = torch.nn.Linear(128, 64)\n",
    "        self.fc3 = torch.nn.Linear(64, 32)\n",
    "        self.fc4 = torch.nn.Linear(32, 1)  # 输出层\n",
    "\n",
    "    # 网络的前向计算\n",
    "    def forward(self, inputs):\n",
    "        x = self.fc1(inputs)\n",
    "        x = self.relu(x)  # 隐藏层使用 ReLU\n",
    "        x = self.fc2(x)\n",
    "        x = self.relu(x)  # 隐藏层使用 ReLU\n",
    "        x = self.fc3(x)\n",
    "        x = self.relu(x)  # 隐藏层使用 ReLU\n",
    "        x = self.fc4(x)  # 输出层\n",
    "\n",
    "        return x"
   ],
   "id": "5bade1580451d5a8",
   "outputs": [],
   "execution_count": 227
  },
  {
   "metadata": {
    "ExecuteTime": {
     "end_time": "2024-10-27T12:04:29.696086Z",
     "start_time": "2024-10-27T12:04:29.688532Z"
    }
   },
   "cell_type": "code",
   "source": [
    "# 声明定义好的线性回归模型 实例化\n",
    "model = Regressor()\n",
    "\n",
    "# 开启模型训练模式\n",
    "model.train()\n",
    "\n",
    "# 定义优化算法，使用随机梯度下降SGD\n",
    "opt = torch.optim.Adam(model.parameters(), lr=0.001)"
   ],
   "id": "1c7ea5da7ab06906",
   "outputs": [],
   "execution_count": 228
  },
  {
   "metadata": {},
   "cell_type": "markdown",
   "source": "模型训练",
   "id": "2d05588cec56b5e3"
  },
  {
   "metadata": {
    "ExecuteTime": {
     "end_time": "2024-10-27T12:14:27.906994Z",
     "start_time": "2024-10-27T12:04:29.724895Z"
    }
   },
   "cell_type": "code",
   "source": [
    "EPOCH_NUM = 100  # 设置外层循环次数 尽量大\n",
    "BATCH_SIZE = 1500  # 设置batch大小  根据硬件调整\n",
    "# 优化算法\n",
    "training_data = train_df.iloc[:-10000].values.astype(np.float32)\n",
    "val_data = train_df.iloc[-10000:].values.astype(np.float32)\n",
    "# 记录 MAE 结果的列表\n",
    "train_mae_list = []\n",
    "val_mae_list = []\n",
    "# 定义外层循环\n",
    "for epoch_id in range(EPOCH_NUM):\n",
    "    # 在每轮迭代开始之前，将训练数据的顺序随机的打乱\n",
    "    np.random.shuffle(training_data)\n",
    "\n",
    "    # 将训练数据进行拆分，每个batch包含10条数据\n",
    "    mini_batches = [training_data[k:k + BATCH_SIZE] for k in range(0, len(training_data), BATCH_SIZE)]\n",
    "\n",
    "    train_loss = []\n",
    "    for iter_id, mini_batch in enumerate(mini_batches):\n",
    "        # 清空梯度变量，以备下一轮计算\n",
    "        opt.zero_grad()\n",
    "\n",
    "        x = np.array(mini_batch[:, :-1])\n",
    "        y = np.array(mini_batch[:, -1:])\n",
    "\n",
    "        # 将numpy数据转为飞桨动态图tensor的格式\n",
    "        features = torch.tensor(x)\n",
    "        y = torch.tensor(y)\n",
    "\n",
    "        # 前向计算\n",
    "        predicts = model(features)\n",
    "\n",
    "        # 计算损失\n",
    "\n",
    "        loss = torch.nn.functional.l1_loss(predicts, y)\n",
    "        avg_loss = torch.mean(loss)\n",
    "\n",
    "        train_loss.append(avg_loss.detach().numpy())\n",
    "\n",
    "        # 反向传播，计算每层参数的梯度值\n",
    "        avg_loss.backward()\n",
    "\n",
    "        # 更新参数，根据设置好的学习率迭代一步\n",
    "        opt.step()\n",
    "\n",
    "    mini_batches = [val_data[k:k + BATCH_SIZE] for k in range(0, len(val_data), BATCH_SIZE)]\n",
    "    val_loss = []\n",
    "    for iter_id, mini_batch in enumerate(mini_batches):\n",
    "        x = np.array(mini_batch[:, :-1])\n",
    "        y = np.array(mini_batch[:, -1:])\n",
    "\n",
    "        features = torch.tensor(x)\n",
    "        y = torch.tensor(y)\n",
    "\n",
    "        predicts = model(features)\n",
    "        loss = torch.nn.functional.l1_loss(predicts, y)\n",
    "        avg_loss = torch.mean(loss)\n",
    "        val_loss.append(avg_loss.detach().numpy())\n",
    "\n",
    "    # 记录每个 epoch 的 MAE\n",
    "    train_mae_list.append(np.mean(train_loss))\n",
    "    val_mae_list.append(np.mean(val_loss))\n",
    "    print(f'Epoch {epoch_id}, train MAE {np.mean(train_loss)}, val MAE {np.mean(val_loss)}')"
   ],
   "id": "2b3d24167bc8b7b1",
   "outputs": [
    {
     "name": "stdout",
     "output_type": "stream",
     "text": [
      "Epoch 0, train MAE 9.960970878601074, val MAE 6.670741081237793\n",
      "Epoch 1, train MAE 5.780174732208252, val MAE 5.22678804397583\n",
      "Epoch 2, train MAE 4.973081111907959, val MAE 4.769153118133545\n",
      "Epoch 3, train MAE 4.838193416595459, val MAE 4.727025032043457\n",
      "Epoch 4, train MAE 4.782989978790283, val MAE 4.6821112632751465\n",
      "Epoch 5, train MAE 4.754961967468262, val MAE 4.6624369621276855\n",
      "Epoch 6, train MAE 4.730250358581543, val MAE 4.950608730316162\n",
      "Epoch 7, train MAE 4.716092586517334, val MAE 4.8062663078308105\n",
      "Epoch 8, train MAE 4.7043070793151855, val MAE 4.617084980010986\n",
      "Epoch 9, train MAE 4.697287559509277, val MAE 4.595192909240723\n",
      "Epoch 10, train MAE 4.684972286224365, val MAE 4.637165546417236\n",
      "Epoch 11, train MAE 4.681085586547852, val MAE 4.68301248550415\n",
      "Epoch 12, train MAE 4.668356895446777, val MAE 4.6531243324279785\n",
      "Epoch 13, train MAE 4.675278186798096, val MAE 4.623356819152832\n",
      "Epoch 14, train MAE 4.677299499511719, val MAE 4.611645698547363\n",
      "Epoch 15, train MAE 4.667378902435303, val MAE 4.632991313934326\n",
      "Epoch 16, train MAE 4.664786338806152, val MAE 4.617677211761475\n",
      "Epoch 17, train MAE 4.660805702209473, val MAE 4.59727144241333\n",
      "Epoch 18, train MAE 4.657793045043945, val MAE 4.692347526550293\n",
      "Epoch 19, train MAE 4.653818607330322, val MAE 4.601676940917969\n",
      "Epoch 20, train MAE 4.655917644500732, val MAE 4.593879699707031\n",
      "Epoch 21, train MAE 4.656338691711426, val MAE 4.579531192779541\n",
      "Epoch 22, train MAE 4.651871204376221, val MAE 4.738383769989014\n",
      "Epoch 23, train MAE 4.656724452972412, val MAE 4.600597858428955\n",
      "Epoch 24, train MAE 4.646985054016113, val MAE 4.588839530944824\n",
      "Epoch 25, train MAE 4.6537556648254395, val MAE 4.608844757080078\n",
      "Epoch 26, train MAE 4.647969722747803, val MAE 4.586536884307861\n",
      "Epoch 27, train MAE 4.649982929229736, val MAE 4.57443380355835\n",
      "Epoch 28, train MAE 4.645683765411377, val MAE 4.645566463470459\n",
      "Epoch 29, train MAE 4.647558212280273, val MAE 4.624568939208984\n",
      "Epoch 30, train MAE 4.648263454437256, val MAE 4.596458435058594\n",
      "Epoch 31, train MAE 4.642421722412109, val MAE 4.597381591796875\n",
      "Epoch 32, train MAE 4.648582935333252, val MAE 4.6099629402160645\n",
      "Epoch 33, train MAE 4.642259120941162, val MAE 4.568359375\n",
      "Epoch 34, train MAE 4.642355442047119, val MAE 4.582027435302734\n",
      "Epoch 35, train MAE 4.644320487976074, val MAE 4.76871919631958\n",
      "Epoch 36, train MAE 4.641775608062744, val MAE 4.612521648406982\n",
      "Epoch 37, train MAE 4.644792556762695, val MAE 4.570649147033691\n",
      "Epoch 38, train MAE 4.641093730926514, val MAE 4.645920753479004\n",
      "Epoch 39, train MAE 4.6391119956970215, val MAE 4.579635143280029\n",
      "Epoch 40, train MAE 4.644150733947754, val MAE 4.582869529724121\n",
      "Epoch 41, train MAE 4.637701988220215, val MAE 4.628574848175049\n",
      "Epoch 42, train MAE 4.637917518615723, val MAE 4.656318187713623\n",
      "Epoch 43, train MAE 4.638996601104736, val MAE 4.591766357421875\n",
      "Epoch 44, train MAE 4.6391825675964355, val MAE 4.693844795227051\n",
      "Epoch 45, train MAE 4.634654998779297, val MAE 4.565291404724121\n",
      "Epoch 46, train MAE 4.6343560218811035, val MAE 4.567885875701904\n",
      "Epoch 47, train MAE 4.632858753204346, val MAE 4.606906890869141\n",
      "Epoch 48, train MAE 4.638007164001465, val MAE 4.587789058685303\n",
      "Epoch 49, train MAE 4.632138729095459, val MAE 4.584393501281738\n",
      "Epoch 50, train MAE 4.632187366485596, val MAE 4.634350776672363\n",
      "Epoch 51, train MAE 4.631031513214111, val MAE 4.559300422668457\n",
      "Epoch 52, train MAE 4.6343464851379395, val MAE 4.666213512420654\n",
      "Epoch 53, train MAE 4.63650369644165, val MAE 4.567023277282715\n",
      "Epoch 54, train MAE 4.6296539306640625, val MAE 4.569961071014404\n",
      "Epoch 55, train MAE 4.631213188171387, val MAE 4.582373142242432\n",
      "Epoch 56, train MAE 4.635920524597168, val MAE 4.628324031829834\n",
      "Epoch 57, train MAE 4.634454250335693, val MAE 4.559734344482422\n",
      "Epoch 58, train MAE 4.634654521942139, val MAE 4.585092067718506\n",
      "Epoch 59, train MAE 4.628566265106201, val MAE 4.6836700439453125\n",
      "Epoch 60, train MAE 4.632126331329346, val MAE 4.605067729949951\n",
      "Epoch 61, train MAE 4.631883144378662, val MAE 4.565724849700928\n",
      "Epoch 62, train MAE 4.632544994354248, val MAE 4.577210426330566\n",
      "Epoch 63, train MAE 4.631693363189697, val MAE 4.559866905212402\n",
      "Epoch 64, train MAE 4.626887321472168, val MAE 4.591833591461182\n",
      "Epoch 65, train MAE 4.630096435546875, val MAE 4.572380065917969\n",
      "Epoch 66, train MAE 4.628819942474365, val MAE 4.559231758117676\n",
      "Epoch 67, train MAE 4.630620956420898, val MAE 4.5970563888549805\n",
      "Epoch 68, train MAE 4.62729024887085, val MAE 4.573817729949951\n",
      "Epoch 69, train MAE 4.6242194175720215, val MAE 4.578728199005127\n",
      "Epoch 70, train MAE 4.632307052612305, val MAE 4.583969593048096\n",
      "Epoch 71, train MAE 4.6299309730529785, val MAE 4.559903144836426\n",
      "Epoch 72, train MAE 4.628268718719482, val MAE 4.560747146606445\n",
      "Epoch 73, train MAE 4.6282429695129395, val MAE 4.610392093658447\n",
      "Epoch 74, train MAE 4.624850749969482, val MAE 4.555510520935059\n",
      "Epoch 75, train MAE 4.625912666320801, val MAE 4.575272083282471\n",
      "Epoch 76, train MAE 4.62870979309082, val MAE 4.605381488800049\n",
      "Epoch 77, train MAE 4.625731945037842, val MAE 4.562201976776123\n",
      "Epoch 78, train MAE 4.626152515411377, val MAE 4.560194969177246\n",
      "Epoch 79, train MAE 4.625247955322266, val MAE 4.5590500831604\n",
      "Epoch 80, train MAE 4.625725269317627, val MAE 4.5565900802612305\n",
      "Epoch 81, train MAE 4.623470783233643, val MAE 4.583927631378174\n",
      "Epoch 82, train MAE 4.625293731689453, val MAE 4.707944393157959\n",
      "Epoch 83, train MAE 4.623545169830322, val MAE 4.559276580810547\n",
      "Epoch 84, train MAE 4.624976634979248, val MAE 4.553197383880615\n",
      "Epoch 85, train MAE 4.624838352203369, val MAE 4.573349475860596\n",
      "Epoch 86, train MAE 4.619871616363525, val MAE 4.632354259490967\n",
      "Epoch 87, train MAE 4.627961158752441, val MAE 4.566008567810059\n",
      "Epoch 88, train MAE 4.626021862030029, val MAE 4.576104164123535\n",
      "Epoch 89, train MAE 4.622450828552246, val MAE 4.559842586517334\n",
      "Epoch 90, train MAE 4.622272491455078, val MAE 4.662688732147217\n",
      "Epoch 91, train MAE 4.622565269470215, val MAE 4.563205242156982\n",
      "Epoch 92, train MAE 4.625020503997803, val MAE 4.5940752029418945\n",
      "Epoch 93, train MAE 4.624799728393555, val MAE 4.563366889953613\n",
      "Epoch 94, train MAE 4.619583606719971, val MAE 4.618663787841797\n",
      "Epoch 95, train MAE 4.623629570007324, val MAE 4.561842918395996\n",
      "Epoch 96, train MAE 4.6221723556518555, val MAE 4.5621442794799805\n",
      "Epoch 97, train MAE 4.621744155883789, val MAE 4.566695213317871\n",
      "Epoch 98, train MAE 4.620273113250732, val MAE 4.558564186096191\n",
      "Epoch 99, train MAE 4.622190475463867, val MAE 4.58972692489624\n"
     ]
    }
   ],
   "execution_count": 229
  },
  {
   "metadata": {
    "ExecuteTime": {
     "end_time": "2024-10-27T12:14:28.277400Z",
     "start_time": "2024-10-27T12:14:28.017601Z"
    }
   },
   "cell_type": "code",
   "source": [
    "# 可视化 MAE 变化\n",
    "plt.figure(figsize=(10, 6))\n",
    "plt.plot(train_mae_list, label='训练 MAE', color='blue')\n",
    "plt.plot(val_mae_list, label='验证 MAE', color='orange')\n",
    "\n",
    "plt.title('训练和验证 MAE 随 Epoch 变化', fontsize=16)\n",
    "plt.xlabel('Epoch', fontsize=12)\n",
    "plt.ylabel('MAE', fontsize=12)\n",
    "plt.grid()\n",
    "plt.legend()\n",
    "plt.show()"
   ],
   "id": "2222d39b25435f6b",
   "outputs": [
    {
     "data": {
      "text/plain": [
       "<Figure size 1000x600 with 1 Axes>"
      ],
      "image/png": "[encoded data removed]"
     },
     "metadata": {},
     "output_type": "display_data"
    }
   ],
   "execution_count": 230
  },
  {
   "metadata": {
    "ExecuteTime": {
     "end_time": "2024-10-27T12:14:28.367739Z",
     "start_time": "2024-10-27T12:14:28.363512Z"
    }
   },
   "cell_type": "code",
   "source": "train_loss.append(avg_loss.detach().numpy())",
   "id": "d380e031a22db449",
   "outputs": [],
   "execution_count": 231
  },
  {
   "metadata": {
    "ExecuteTime": {
     "end_time": "2024-10-27T12:14:28.607040Z",
     "start_time": "2024-10-27T12:14:28.444059Z"
    }
   },
   "cell_type": "code",
   "source": [
    "model.eval()\n",
    "test_data = torch.tensor(test_df.values.astype(np.float32))\n",
    "test_predict = model(test_data)\n",
    "test_predict = test_predict.detach().numpy().flatten()\n",
    "test_predict = test_predict.round().astype(int)\n",
    "len(test_predict)"
   ],
   "id": "2244ed8635bc0e0b",
   "outputs": [
    {
     "ename": "RuntimeError",
     "evalue": "mat1 and mat2 shapes cannot be multiplied (500000x13 and 18x128)",
     "output_type": "error",
     "traceback": [
      "\u001B[1;31m---------------------------------------------------------------------------\u001B[0m",
      "\u001B[1;31mRuntimeError\u001B[0m                              Traceback (most recent call last)",
      "Cell \u001B[1;32mIn[232], line 3\u001B[0m\n\u001B[0;32m      1\u001B[0m model\u001B[38;5;241m.\u001B[39meval()\n\u001B[0;32m      2\u001B[0m test_data \u001B[38;5;241m=\u001B[39m torch\u001B[38;5;241m.\u001B[39mtensor(test_df\u001B[38;5;241m.\u001B[39mvalues\u001B[38;5;241m.\u001B[39mastype(np\u001B[38;5;241m.\u001B[39mfloat32))\n\u001B[1;32m----> 3\u001B[0m test_predict \u001B[38;5;241m=\u001B[39m \u001B[43mmodel\u001B[49m\u001B[43m(\u001B[49m\u001B[43mtest_data\u001B[49m\u001B[43m)\u001B[49m\n\u001B[0;32m      4\u001B[0m test_predict \u001B[38;5;241m=\u001B[39m test_predict\u001B[38;5;241m.\u001B[39mdetach()\u001B[38;5;241m.\u001B[39mnumpy()\u001B[38;5;241m.\u001B[39mflatten()\n\u001B[0;32m      5\u001B[0m test_predict \u001B[38;5;241m=\u001B[39m test_predict\u001B[38;5;241m.\u001B[39mround()\u001B[38;5;241m.\u001B[39mastype(\u001B[38;5;28mint\u001B[39m)\n",
      "File \u001B[1;32mD:\\Program Files\\Python312\\Lib\\site-packages\\torch\\nn\\modules\\module.py:1736\u001B[0m, in \u001B[0;36mModule._wrapped_call_impl\u001B[1;34m(self, *args, **kwargs)\u001B[0m\n\u001B[0;32m   1734\u001B[0m     \u001B[38;5;28;01mreturn\u001B[39;00m \u001B[38;5;28mself\u001B[39m\u001B[38;5;241m.\u001B[39m_compiled_call_impl(\u001B[38;5;241m*\u001B[39margs, \u001B[38;5;241m*\u001B[39m\u001B[38;5;241m*\u001B[39mkwargs)  \u001B[38;5;66;03m# type: ignore[misc]\u001B[39;00m\n\u001B[0;32m   1735\u001B[0m \u001B[38;5;28;01melse\u001B[39;00m:\n\u001B[1;32m-> 1736\u001B[0m     \u001B[38;5;28;01mreturn\u001B[39;00m \u001B[38;5;28;43mself\u001B[39;49m\u001B[38;5;241;43m.\u001B[39;49m\u001B[43m_call_impl\u001B[49m\u001B[43m(\u001B[49m\u001B[38;5;241;43m*\u001B[39;49m\u001B[43margs\u001B[49m\u001B[43m,\u001B[49m\u001B[43m \u001B[49m\u001B[38;5;241;43m*\u001B[39;49m\u001B[38;5;241;43m*\u001B[39;49m\u001B[43mkwargs\u001B[49m\u001B[43m)\u001B[49m\n",
      "File \u001B[1;32mD:\\Program Files\\Python312\\Lib\\site-packages\\torch\\nn\\modules\\module.py:1747\u001B[0m, in \u001B[0;36mModule._call_impl\u001B[1;34m(self, *args, **kwargs)\u001B[0m\n\u001B[0;32m   1742\u001B[0m \u001B[38;5;66;03m# If we don't have any hooks, we want to skip the rest of the logic in\u001B[39;00m\n\u001B[0;32m   1743\u001B[0m \u001B[38;5;66;03m# this function, and just call forward.\u001B[39;00m\n\u001B[0;32m   1744\u001B[0m \u001B[38;5;28;01mif\u001B[39;00m \u001B[38;5;129;01mnot\u001B[39;00m (\u001B[38;5;28mself\u001B[39m\u001B[38;5;241m.\u001B[39m_backward_hooks \u001B[38;5;129;01mor\u001B[39;00m \u001B[38;5;28mself\u001B[39m\u001B[38;5;241m.\u001B[39m_backward_pre_hooks \u001B[38;5;129;01mor\u001B[39;00m \u001B[38;5;28mself\u001B[39m\u001B[38;5;241m.\u001B[39m_forward_hooks \u001B[38;5;129;01mor\u001B[39;00m \u001B[38;5;28mself\u001B[39m\u001B[38;5;241m.\u001B[39m_forward_pre_hooks\n\u001B[0;32m   1745\u001B[0m         \u001B[38;5;129;01mor\u001B[39;00m _global_backward_pre_hooks \u001B[38;5;129;01mor\u001B[39;00m _global_backward_hooks\n\u001B[0;32m   1746\u001B[0m         \u001B[38;5;129;01mor\u001B[39;00m _global_forward_hooks \u001B[38;5;129;01mor\u001B[39;00m _global_forward_pre_hooks):\n\u001B[1;32m-> 1747\u001B[0m     \u001B[38;5;28;01mreturn\u001B[39;00m \u001B[43mforward_call\u001B[49m\u001B[43m(\u001B[49m\u001B[38;5;241;43m*\u001B[39;49m\u001B[43margs\u001B[49m\u001B[43m,\u001B[49m\u001B[43m \u001B[49m\u001B[38;5;241;43m*\u001B[39;49m\u001B[38;5;241;43m*\u001B[39;49m\u001B[43mkwargs\u001B[49m\u001B[43m)\u001B[49m\n\u001B[0;32m   1749\u001B[0m result \u001B[38;5;241m=\u001B[39m \u001B[38;5;28;01mNone\u001B[39;00m\n\u001B[0;32m   1750\u001B[0m called_always_called_hooks \u001B[38;5;241m=\u001B[39m \u001B[38;5;28mset\u001B[39m()\n",
      "Cell \u001B[1;32mIn[227], line 15\u001B[0m, in \u001B[0;36mRegressor.forward\u001B[1;34m(self, inputs)\u001B[0m\n\u001B[0;32m     14\u001B[0m \u001B[38;5;28;01mdef\u001B[39;00m \u001B[38;5;21mforward\u001B[39m(\u001B[38;5;28mself\u001B[39m, inputs):\n\u001B[1;32m---> 15\u001B[0m     x \u001B[38;5;241m=\u001B[39m \u001B[38;5;28;43mself\u001B[39;49m\u001B[38;5;241;43m.\u001B[39;49m\u001B[43mfc1\u001B[49m\u001B[43m(\u001B[49m\u001B[43minputs\u001B[49m\u001B[43m)\u001B[49m\n\u001B[0;32m     16\u001B[0m     x \u001B[38;5;241m=\u001B[39m \u001B[38;5;28mself\u001B[39m\u001B[38;5;241m.\u001B[39mrelu(x)  \u001B[38;5;66;03m# 隐藏层使用 ReLU\u001B[39;00m\n\u001B[0;32m     17\u001B[0m     x \u001B[38;5;241m=\u001B[39m \u001B[38;5;28mself\u001B[39m\u001B[38;5;241m.\u001B[39mfc2(x)\n",
      "File \u001B[1;32mD:\\Program Files\\Python312\\Lib\\site-packages\\torch\\nn\\modules\\module.py:1736\u001B[0m, in \u001B[0;36mModule._wrapped_call_impl\u001B[1;34m(self, *args, **kwargs)\u001B[0m\n\u001B[0;32m   1734\u001B[0m     \u001B[38;5;28;01mreturn\u001B[39;00m \u001B[38;5;28mself\u001B[39m\u001B[38;5;241m.\u001B[39m_compiled_call_impl(\u001B[38;5;241m*\u001B[39margs, \u001B[38;5;241m*\u001B[39m\u001B[38;5;241m*\u001B[39mkwargs)  \u001B[38;5;66;03m# type: ignore[misc]\u001B[39;00m\n\u001B[0;32m   1735\u001B[0m \u001B[38;5;28;01melse\u001B[39;00m:\n\u001B[1;32m-> 1736\u001B[0m     \u001B[38;5;28;01mreturn\u001B[39;00m \u001B[38;5;28;43mself\u001B[39;49m\u001B[38;5;241;43m.\u001B[39;49m\u001B[43m_call_impl\u001B[49m\u001B[43m(\u001B[49m\u001B[38;5;241;43m*\u001B[39;49m\u001B[43margs\u001B[49m\u001B[43m,\u001B[49m\u001B[43m \u001B[49m\u001B[38;5;241;43m*\u001B[39;49m\u001B[38;5;241;43m*\u001B[39;49m\u001B[43mkwargs\u001B[49m\u001B[43m)\u001B[49m\n",
      "File \u001B[1;32mD:\\Program Files\\Python312\\Lib\\site-packages\\torch\\nn\\modules\\module.py:1747\u001B[0m, in \u001B[0;36mModule._call_impl\u001B[1;34m(self, *args, **kwargs)\u001B[0m\n\u001B[0;32m   1742\u001B[0m \u001B[38;5;66;03m# If we don't have any hooks, we want to skip the rest of the logic in\u001B[39;00m\n\u001B[0;32m   1743\u001B[0m \u001B[38;5;66;03m# this function, and just call forward.\u001B[39;00m\n\u001B[0;32m   1744\u001B[0m \u001B[38;5;28;01mif\u001B[39;00m \u001B[38;5;129;01mnot\u001B[39;00m (\u001B[38;5;28mself\u001B[39m\u001B[38;5;241m.\u001B[39m_backward_hooks \u001B[38;5;129;01mor\u001B[39;00m \u001B[38;5;28mself\u001B[39m\u001B[38;5;241m.\u001B[39m_backward_pre_hooks \u001B[38;5;129;01mor\u001B[39;00m \u001B[38;5;28mself\u001B[39m\u001B[38;5;241m.\u001B[39m_forward_hooks \u001B[38;5;129;01mor\u001B[39;00m \u001B[38;5;28mself\u001B[39m\u001B[38;5;241m.\u001B[39m_forward_pre_hooks\n\u001B[0;32m   1745\u001B[0m         \u001B[38;5;129;01mor\u001B[39;00m _global_backward_pre_hooks \u001B[38;5;129;01mor\u001B[39;00m _global_backward_hooks\n\u001B[0;32m   1746\u001B[0m         \u001B[38;5;129;01mor\u001B[39;00m _global_forward_hooks \u001B[38;5;129;01mor\u001B[39;00m _global_forward_pre_hooks):\n\u001B[1;32m-> 1747\u001B[0m     \u001B[38;5;28;01mreturn\u001B[39;00m \u001B[43mforward_call\u001B[49m\u001B[43m(\u001B[49m\u001B[38;5;241;43m*\u001B[39;49m\u001B[43margs\u001B[49m\u001B[43m,\u001B[49m\u001B[43m \u001B[49m\u001B[38;5;241;43m*\u001B[39;49m\u001B[38;5;241;43m*\u001B[39;49m\u001B[43mkwargs\u001B[49m\u001B[43m)\u001B[49m\n\u001B[0;32m   1749\u001B[0m result \u001B[38;5;241m=\u001B[39m \u001B[38;5;28;01mNone\u001B[39;00m\n\u001B[0;32m   1750\u001B[0m called_always_called_hooks \u001B[38;5;241m=\u001B[39m \u001B[38;5;28mset\u001B[39m()\n",
      "File \u001B[1;32mD:\\Program Files\\Python312\\Lib\\site-packages\\torch\\nn\\modules\\linear.py:125\u001B[0m, in \u001B[0;36mLinear.forward\u001B[1;34m(self, input)\u001B[0m\n\u001B[0;32m    124\u001B[0m \u001B[38;5;28;01mdef\u001B[39;00m \u001B[38;5;21mforward\u001B[39m(\u001B[38;5;28mself\u001B[39m, \u001B[38;5;28minput\u001B[39m: Tensor) \u001B[38;5;241m-\u001B[39m\u001B[38;5;241m>\u001B[39m Tensor:\n\u001B[1;32m--> 125\u001B[0m     \u001B[38;5;28;01mreturn\u001B[39;00m \u001B[43mF\u001B[49m\u001B[38;5;241;43m.\u001B[39;49m\u001B[43mlinear\u001B[49m\u001B[43m(\u001B[49m\u001B[38;5;28;43minput\u001B[39;49m\u001B[43m,\u001B[49m\u001B[43m \u001B[49m\u001B[38;5;28;43mself\u001B[39;49m\u001B[38;5;241;43m.\u001B[39;49m\u001B[43mweight\u001B[49m\u001B[43m,\u001B[49m\u001B[43m \u001B[49m\u001B[38;5;28;43mself\u001B[39;49m\u001B[38;5;241;43m.\u001B[39;49m\u001B[43mbias\u001B[49m\u001B[43m)\u001B[49m\n",
      "\u001B[1;31mRuntimeError\u001B[0m: mat1 and mat2 shapes cannot be multiplied (500000x13 and 18x128)"
     ]
    }
   ],
   "execution_count": 232
  },
  {
   "metadata": {
    "ExecuteTime": {
     "end_time": "2024-10-27T12:14:28.630959800Z",
     "start_time": "2024-10-27T10:45:22.915766Z"
    }
   },
   "cell_type": "code",
   "source": [
    "# pd.DataFrame({'team_placement': test_predict}).to_csv('data/submission.csv', index=None)\n",
    "\n",
    "# 在左侧刷新下载到桌面后提交进行评测即可"
   ],
   "id": "87887f36debc7552",
   "outputs": [],
   "execution_count": 76
  },
  {
   "metadata": {},
   "cell_type": "markdown",
   "source": [
    "6 总结与展望\n",
    "项目使用全连接网络进行训练和预测。\n",
    "\n",
    "后续改进方法有：\n",
    "\n",
    "按照队伍进行聚合统计数据，构造新特征。\n",
    "将标签归一化到0-1之间，进行训练。"
   ],
   "id": "4e977854426768c2"
  }
 ],
 "metadata": {
  "kernelspec": {
   "display_name": "Python 3",
   "language": "python",
   "name": "python3"
  },
  "language_info": {
   "codemirror_mode": {
    "name": "ipython",
    "version": 2
   },
   "file_extension": ".py",
   "mimetype": "text/x-python",
   "name": "python",
   "nbconvert_exporter": "python",
   "pygments_lexer": "ipython2",
   "version": "2.7.6"
  }
 },
 "nbformat": 4,
 "nbformat_minor": 5
}
